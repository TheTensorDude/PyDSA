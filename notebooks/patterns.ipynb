{
 "cells": [
  {
   "cell_type": "markdown",
   "metadata": {},
   "source": [
    "## Pattern related DSA "
   ]
  },
  {
   "cell_type": "markdown",
   "metadata": {},
   "source": [
    "### 1. Half Pyramid Pattern Using *\n",
    "\n",
    "\n",
    "```\n",
    "* \n",
    "* * \n",
    "* * * \n",
    "* * * * \n",
    "```"
   ]
  },
  {
   "cell_type": "code",
   "execution_count": null,
   "metadata": {},
   "outputs": [],
   "source": [
    "def printPatterns(n):\n",
    "    for i in range(1, n + 1):\n",
    "        for j in range(0, i):\n",
    "            print(\"*\", end=\" \")\n",
    "        print()  # Just print a newline, no need for \"\\n\"\n",
    "\n",
    "printPatterns(n = 10)         "
   ]
  },
  {
   "cell_type": "markdown",
   "metadata": {},
   "source": [
    "### 2. Right Inverted Half Pyramid Pattern Using *\n",
    "\n",
    "\n",
    "```\n",
    "* * * * * \n",
    "  * * * * \n",
    "    * * * \n",
    "      * * \n",
    "        * \n",
    "\n",
    "```"
   ]
  },
  {
   "cell_type": "code",
   "execution_count": null,
   "metadata": {},
   "outputs": [],
   "source": [
    "def printPattern(n):\n",
    "    spaceCount = 0\n",
    "    for j in range(n - spaceCount, 0, -1):\n",
    "        print(\" \" * spaceCount + \"*\" * j)\n",
    "        spaceCount += 1\n",
    "    print()\n",
    "printPattern(n = 10)"
   ]
  },
  {
   "cell_type": "markdown",
   "metadata": {},
   "source": [
    "### 3. Half Pyramid Pattern\n",
    "\n",
    "\n",
    "```\n",
    "* * * * \n",
    "* * * \n",
    "* * \n",
    "* \n",
    "```"
   ]
  },
  {
   "cell_type": "code",
   "execution_count": null,
   "metadata": {},
   "outputs": [],
   "source": [
    "def printPattern(n):\n",
    "    for i in range(n, 0, -1):\n",
    "        print(\"*\" * i)\n",
    "    \n",
    "printPattern(n = 4)"
   ]
  },
  {
   "cell_type": "markdown",
   "metadata": {},
   "source": [
    "### 4. Right Pyramid Pattern Using Numbers\n",
    "```\n",
    "1 2 3 4 \n",
    "  1 2 3 \n",
    "    1 2 \n",
    "      1 \n",
    "\n",
    "```"
   ]
  },
  {
   "cell_type": "code",
   "execution_count": null,
   "metadata": {},
   "outputs": [],
   "source": [
    "def printPattern(n):\n",
    "    for j in range(0, n):\n",
    "        line = [str(i) for i in range(1, n - j + 1)]\n",
    "        print(\" \" * j + \"\".join(line))\n",
    "        \n",
    "printPattern(5)"
   ]
  },
  {
   "cell_type": "markdown",
   "metadata": {},
   "source": [
    "### 4. Half Pyramid Pattern\n",
    "\n",
    "\n",
    "\n",
    "```\n",
    "1 \n",
    "1 2 \n",
    "1 2 3 \n",
    "1 2 3 4 \n",
    "```"
   ]
  },
  {
   "cell_type": "code",
   "execution_count": null,
   "metadata": {},
   "outputs": [],
   "source": [
    "def printPattern(n):\n",
    "    for i in range(1, n + 1):        # Start = 1, end = 5, n = 5\n",
    "        for j in range(1, i + 1):    # Start = 1, end = [2, 3 , 4, 5, 6]\n",
    "            print(j, end = \"\")\n",
    "        print()\n",
    "    \n",
    "printPattern(n = 5)"
   ]
  },
  {
   "cell_type": "markdown",
   "metadata": {},
   "source": [
    "### 5. Half Pyramid Pattern Using Distinct number each line\n",
    "```\n",
    "1 1 1 1 1 \n",
    "2 2 2 2 \n",
    "3 3 3 \n",
    "4 4 \n",
    "5 \n",
    "```"
   ]
  },
  {
   "cell_type": "code",
   "execution_count": 26,
   "metadata": {},
   "outputs": [
    {
     "name": "stdout",
     "output_type": "stream",
     "text": [
      "1 1 1 1 1 \n",
      "2 2 2 2 \n",
      "3 3 3 \n",
      "4 4 \n",
      "5 \n"
     ]
    }
   ],
   "source": [
    "def printPattern(n):\n",
    "    for i in range(0, n):\n",
    "        for j in range(0, n - i):\n",
    "            print(i + 1, end = \" \")\n",
    "        print()\n",
    "        \n",
    "printPattern(n = 5)"
   ]
  },
  {
   "cell_type": "markdown",
   "metadata": {},
   "source": [
    "### 6. Half Pyramid Reverse Numbers\n",
    "\n",
    "```\n",
    "1 \n",
    "2 1 \n",
    "3 2 1 \n",
    "4 3 2 1 \n",
    "5 4 3 2 1\n",
    "```"
   ]
  },
  {
   "cell_type": "code",
   "execution_count": null,
   "metadata": {},
   "outputs": [],
   "source": []
  },
  {
   "cell_type": "code",
   "execution_count": null,
   "metadata": {},
   "outputs": [],
   "source": []
  },
  {
   "cell_type": "code",
   "execution_count": null,
   "metadata": {},
   "outputs": [],
   "source": []
  }
 ],
 "metadata": {
  "kernelspec": {
   "display_name": "Python 3 (ipykernel)",
   "language": "python",
   "name": "python3"
  },
  "language_info": {
   "codemirror_mode": {
    "name": "ipython",
    "version": 3
   },
   "file_extension": ".py",
   "mimetype": "text/x-python",
   "name": "python",
   "nbconvert_exporter": "python",
   "pygments_lexer": "ipython3",
   "version": "3.11.4"
  }
 },
 "nbformat": 4,
 "nbformat_minor": 2
}
